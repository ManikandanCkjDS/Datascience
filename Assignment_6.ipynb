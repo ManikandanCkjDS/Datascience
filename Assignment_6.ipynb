{
 "cells": [
  {
   "cell_type": "markdown",
   "metadata": {},
   "source": [
    "1.\tWhat are escape characters, and how do you use them?\n",
    "\n",
    "Ans: string values that would otherwise be difficult or impossible to type into code.\n",
    "\n",
    "2.\tWhat do the escape characters n and t stand for?\n",
    "\n",
    "Ans:  \\n is a newline; \\t is a tab.\n",
    "\n",
    "3.\tWhat is the way to include backslash characters in a string?\n",
    "\n",
    "Ans: \\\\ escape character will represent a backslash character.\n",
    "\n",
    "4.\tThe string \"Howl's Moving Castle\" is a correct value. Why isn't the single quote character in the word Howl's not escaped a problem?\n",
    "\n",
    "Ans: Single quote in Howl's is fine because you've used double quotes to mark the beginning and end of the string.\n",
    "\n",
    "5.\tHow do you write a string of newlines if you don't want to use the n character?\n",
    "\n",
    "Ans: Multiline strings allow you to use newlines in strings without the \\n escape character.\n",
    "\n",
    "6. What are the values of the given expressions?\n",
    "\n",
    "'Hello, world!'[1] -  Ans: 'e'\n",
    "'Hello, world!'[0:5]- Ans: 'Hello'\n",
    "'Hello, world!'[:5] - Ans: 'Hello'\n",
    "'Hello, world!'[3:] - Ans: 'lo world!\n",
    "\n",
    "7. What are the values of the following expressions?\n",
    "\n",
    "'Hello'.upper() – Ans: 'HELLO'\n",
    "'Hello'.upper().isupper() – Ans: True\n",
    "'Hello'.upper().lower() – Ans: Hello\n",
    "\n",
    "8. What are the values of the following expressions?\n",
    "'Remember, remember, the fifth of July.'.split()\n",
    "'-'.join('There can only one.'.split())\n",
    "\n",
    "Ans: ['Remember,', 'remember,', 'the', 'fifth', 'of', 'November.']            \n",
    "\n",
    "9. What are the methods for right-justifying, left-justifying, and centering a string?\n",
    "\n",
    "Ans: rjust(), ljust(), and center() string methods.\n",
    "\n",
    "10. What is the best way to remove whitespace characters from the start or end?\n",
    "\n",
    "Ans: lstrip() and rstrip() methods remove whitespace from the left and right ends of a string"
   ]
  },
  {
   "cell_type": "code",
   "execution_count": null,
   "metadata": {},
   "outputs": [],
   "source": []
  }
 ],
 "metadata": {
  "kernelspec": {
   "display_name": "Python 3",
   "language": "python",
   "name": "python3"
  },
  "language_info": {
   "codemirror_mode": {
    "name": "ipython",
    "version": 3
   },
   "file_extension": ".py",
   "mimetype": "text/x-python",
   "name": "python",
   "nbconvert_exporter": "python",
   "pygments_lexer": "ipython3",
   "version": "3.8.5"
  }
 },
 "nbformat": 4,
 "nbformat_minor": 4
}
