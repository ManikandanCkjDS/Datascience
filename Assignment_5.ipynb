{
 "cells": [
  {
   "cell_type": "markdown",
   "metadata": {},
   "source": [
    "1.\tWhat does an empty dictionary's code look like?\n",
    "\n",
    "Ans : {}.\n",
    "\n",
    "2.\tWhat is the value of a dictionary value with the key 'foo' and the value 42?\n",
    "\n",
    "Ans:  { 'foo': 42}\n",
    "\n",
    "3.\tWhat is the most significant distinction between a dictionary and a list?\n",
    "\n",
    "Ans: Dictionary items are stored in unordered, but list item stored in order.\n",
    "\n",
    "4.\tWhat happens if you try to access spam['foo'] if spam is {'bar': 100}?\n",
    "\n",
    "Ans : Get a Key-Error error.\n",
    "\n",
    "5.\tIf a dictionary is stored in spam, what is the difference between the expressions 'cat' in spam and 'cat' in spam.keys()?\n",
    "\n",
    "Ans: There is no difference. The in operator checks whether a value exists as a key in the dictionary.\n",
    "\n",
    "6.\tIf a dictionary is stored in spam, what is the difference between the expressions 'cat' in spam and 'cat' in spam.values()?\n",
    "\n",
    "Ans:  'cat' in spam checks whether there is a 'cat' key in the dictionary, while 'cat' in spam.values() checks whether there is \n",
    "a value 'cat' for one of the keys in spam.\n",
    "\n",
    "7.\tWhat is a shortcut for the following code?\n",
    "if 'color' not in spam:\n",
    "spam['color'] = 'black'\n",
    "\n",
    "Ans: spam.setdefault('color', 'black')\n",
    "\n",
    "8.\tHow do you \"pretty print\" dictionary values using which module and function?\n",
    "\n",
    "Ans : pprint.pprint()"
   ]
  },
  {
   "cell_type": "code",
   "execution_count": null,
   "metadata": {},
   "outputs": [],
   "source": []
  }
 ],
 "metadata": {
  "kernelspec": {
   "display_name": "Python 3",
   "language": "python",
   "name": "python3"
  },
  "language_info": {
   "codemirror_mode": {
    "name": "ipython",
    "version": 3
   },
   "file_extension": ".py",
   "mimetype": "text/x-python",
   "name": "python",
   "nbconvert_exporter": "python",
   "pygments_lexer": "ipython3",
   "version": "3.8.5"
  }
 },
 "nbformat": 4,
 "nbformat_minor": 4
}
